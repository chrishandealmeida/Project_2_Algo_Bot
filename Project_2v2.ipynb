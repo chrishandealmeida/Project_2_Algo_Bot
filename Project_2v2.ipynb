{
 "cells": [
  {
   "cell_type": "code",
   "execution_count": 1,
   "id": "diverse-thursday",
   "metadata": {},
   "outputs": [],
   "source": [
    "import tweepy\n",
    "import textblob\n",
    "import time\n",
    "from datetime import datetime\n",
    "import re\n",
    "import tweepy\n",
    "from tweepy import OAuthHandler\n",
    "from textblob import TextBlob\n",
    "import matplotlib.pyplot as plt\n",
    "import requests, json\n",
    "from time import sleep"
   ]
  },
  {
   "cell_type": "markdown",
   "id": "widespread-disabled",
   "metadata": {},
   "source": [
    "### TWITTER SENTIMENT ANALYSIS"
   ]
  },
  {
   "cell_type": "code",
   "execution_count": 2,
   "id": "oriental-terrace",
   "metadata": {},
   "outputs": [],
   "source": [
    "class TwitterClient(object):\n",
    "    '''\n",
    "    Generic Twitter Class for sentiment analysis.\n",
    "    '''\n",
    "    def __init__(self):\n",
    "        '''\n",
    "        Class constructor or initialization method.\n",
    "        '''\n",
    "        # keys and tokens from the Twitter Dev Console\n",
    "        consumer_key = 'vU0U124x884mQKjXP0XVUyeOV'\n",
    "        consumer_secret = 'PHnqYoo0bFvA3IRbx6y4Ku0OVDxGF0Gz1bfAV8EDJAJ6DD1Cpq'\n",
    "        access_token = '1327003820359118848-ecWID7cDZmq8yRWRanh5kB77wlk91M'\n",
    "        access_token_secret = 'chjFwYwMykw4P8xMwjrR3nXRg7irWuQbhJqlX69gCTxja'\n",
    "  \n",
    "\n",
    "        # attempt authentication\n",
    "        try:\n",
    "            # create OAuthHandler object\n",
    "            self.auth = OAuthHandler(consumer_key, consumer_secret)\n",
    "            # set access token and secret\n",
    "            self.auth.set_access_token(access_token, access_token_secret)\n",
    "            # create tweepy API object to fetch tweets\n",
    "            self.api = tweepy.API(self.auth)\n",
    "        except:\n",
    "            print(\"Error: Authentication Failed\")\n",
    "\n",
    "    def clean_tweet(self, tweet):\n",
    "        '''\n",
    "        Utility function to clean tweet text by removing links, special characters\n",
    "        using simple regex statements.\n",
    "        '''\n",
    "        return ' '.join(re.sub(\"(@[A-Za-z0-9]+)|([^0-9A-Za-z \\t])|(\\w+:\\/\\/\\S+)\", \" \", tweet).split())\n",
    "\n",
    "    def get_tweet_sentiment(self, tweet):\n",
    "        '''\n",
    "        Utility function to classify sentiment of passed tweet\n",
    "        using textblob's sentiment method\n",
    "        '''\n",
    "        # create TextBlob object of passed tweet text\n",
    "        analysis = TextBlob(self.clean_tweet(tweet))\n",
    "        # set sentiment\n",
    "        if analysis.sentiment.polarity > 0:\n",
    "            return 'positive'\n",
    "        elif analysis.sentiment.polarity == 0:\n",
    "            return 'neutral'\n",
    "        else:\n",
    "            return 'negative'\n",
    "\n",
    "    def tweet_file(self):\n",
    "        self.message=\"Sentiment Analysis by @BlockchainEng\"\n",
    "        self.filename='SentimentAnalysis.png'\n",
    "        print(self)\n",
    "        self.api.update_with_media(message = self.message, filename= self.filename)\n",
    "\n",
    "    def get_tweets(self, query, count = 10):\n",
    "        '''\n",
    "        Main function to fetch tweets and parse them.\n",
    "        '''\n",
    "        # empty list to store parsed tweets\n",
    "        tweets = []\n",
    "\n",
    "        try:\n",
    "            # call twitter api to fetch tweets\n",
    "            fetched_tweets = self.api.search(q = query, count = count)\n",
    "\n",
    "            # parsing tweets one by one\n",
    "            list_of_tweets = []\n",
    "            for tweet in fetched_tweets:\n",
    "\n",
    "                # empty dictionary to store required params of a tweet\n",
    "                parsed_tweet = {}\n",
    "\n",
    "                # saving text of tweet\n",
    "                #tweet1 =\n",
    "                #tweet1=TwitterClient.api.clean_tweet(tweet_text)\n",
    "                parsed_tweet['text'] = tweet.text\n",
    "                list_of_tweets.append(tweet.text)\n",
    "                # saving sentiment of tweet\n",
    "                parsed_tweet['sentiment'] = self.get_tweet_sentiment(tweet.text)\n",
    "\n",
    "                # appending parsed tweet to tweets list\n",
    "                if tweet.retweet_count > 0:\n",
    "                    # if tweet has retweets, ensure that it is appended only once\n",
    "                    if parsed_tweet not in tweets:\n",
    "                        tweets.append(parsed_tweet)\n",
    "                else:\n",
    "                    tweets.append(parsed_tweet)\n",
    "\n",
    "            # return parsed tweets\n",
    "            with open('TweetHistory.txt', 'a+') as f1:\n",
    "                for tweet in list_of_tweets:\n",
    "                    try:\n",
    "                        f1.write(tweet)\n",
    "                    except:\n",
    "                        pass\n",
    "\n",
    "            return tweets\n",
    "\n",
    "        except tweepy.TweepError as e:\n",
    "            # print error (if any)\n",
    "            print(\"Error : \" + str(e))\n",
    "\n",
    "\n",
    "def main():\n",
    "    # creating object of TwitterClient Class\n",
    "    api = TwitterClient()\n",
    "    # calling function to get tweets\n",
    "    search_term = 'Bitcoin'\n",
    "    list_coins=['Bitcoin'] #, 'Ethereum', 'EOS', 'Cryptocurrency', 'Blockchain', 'BTC'] #'Donald Trump', 'Barack Obama', 'George Washington']\n",
    "    count1=200\n",
    "    list_coin_val = []\n",
    "    start_time = datetime.now()\n",
    "    try:\n",
    "        for i in range(0,1):\n",
    "            #This For Loop controls how many data 'cycles' are collected before visualization and tweeting\n",
    "            for coin in list_coins:\n",
    "                tweets = api.get_tweets(query = coin, count = count1)\n",
    "\n",
    "                # picking positive tweets from tweets\n",
    "                ptweets = [tweet for tweet in tweets if tweet['sentiment'] == 'positive']\n",
    "                # percentage of positive tweets\n",
    "                print(\"\\n\\nTime: {}\".format(str(datetime.now())))\n",
    "                print(\"Sentiment Values for {}\\nNumber of Tweets Analyzed: {}\".format(coin, count1))\n",
    "                positive_tweet_percentage = round(100*len(ptweets)/len(tweets),6)\n",
    "                print(\"Positive tweets percentage: {} %\".format(positive_tweet_percentage))\n",
    "                # picking negative tweets from tweets\n",
    "                ntweets = [tweet for tweet in tweets if tweet['sentiment'] == 'negative']\n",
    "                # percentage of negative tweets\n",
    "                negative_tweet_percentage = round(100*len(ntweets)/len(tweets),6)\n",
    "                print(\"Negative tweets percentage: {} %\".format(negative_tweet_percentage))\n",
    "                # percentage of neutral tweets\n",
    "                #neutral_tweet_percentage = round(100*(len(tweets) - len(ntweets) - len(ptweets))/len(tweets),6)\n",
    "                #print(\"Neutral tweets percentage: {} % \\\n",
    "                    #\".format(neutral_tweet_percentage))\n",
    "                #current_price = getBitcoinPrice()\n",
    "                #list_coin_val.append([coin, positive_tweet_percentage, negative_tweet_percentage, neutral_tweet_percentage, str(datetime.now()), current_price])\n",
    "                #save_to_file(coin, positive_tweet_percentage, negative_tweet_percentage, neutral_tweet_percentage, datetime.now(), current_price, \"SentimentHistorical.csv\")\n",
    "                #print(\"Current Price: {}\".format(getBitcoinPrice()))\n",
    "                #trading(current_price, positive_tweet_percentage, negative_tweet_percentage)    #used for Trading Signals\n",
    "        #end_time = datetime.now()\n",
    "        #print(list_coin_val, start_time, end_time)\n",
    "        return positive_tweet_percentage, negative_tweet_percentage\n",
    "    except:\n",
    "        print(\"ERROR - COLLECTING DATA\")"
   ]
  },
  {
   "cell_type": "code",
   "execution_count": 3,
   "id": "scenic-reply",
   "metadata": {},
   "outputs": [],
   "source": [
    "def save_to_file(coin, positive_tweet_percentage, negative_tweet_percentage, neutral_tweet_percentage, time, current_price, filename = \"SentimentHistorical.csv\"):\n",
    "    with open(filename, 'a+') as  f:\n",
    "        line = coin, positive_tweet_percentage, negative_tweet_percentage, neutral_tweet_percentage, time, current_price\n",
    "        f.writelines(str(line) + '\\n')"
   ]
  },
  {
   "cell_type": "markdown",
   "id": "curious-dollar",
   "metadata": {},
   "source": [
    "### TRADE & VISUALIZATION"
   ]
  },
  {
   "cell_type": "code",
   "execution_count": 4,
   "id": "public-academy",
   "metadata": {},
   "outputs": [],
   "source": [
    "def getBitcoinPrice():\n",
    "    URL = 'https://www.bitstamp.net/api/ticker/'\n",
    "    try:\n",
    "        r = requests.get(URL)\n",
    "        priceFloat = float(json.loads(r.text)['last'])\n",
    "        return priceFloat\n",
    "    except requests.ConnectionError:\n",
    "        print(\"Error querying Bitstamp API\")\n",
    "        \n",
    "def tweet_file(self, message, filename):\n",
    "    self.api.update_with_media(message, filename)\n",
    "    \n",
    "def historic_data_viz(self):\n",
    "    #Load Historic Data and Visual into graph form for entire recorded amount\n",
    "    historic_data_list = []\n",
    "    i=0\n",
    "    with open('SentimentHistorical.csv') as f1:\n",
    "        lines = list(f1.readlines())\n",
    "        for line in lines:\n",
    "            print(line)\n",
    "            data=list(line.split(','))\n",
    "            print(data)\n",
    "            if i==0:\n",
    "                start_time=data[5]\n",
    "            if i==len(f1.readlines()):\n",
    "                end_time=data[5]\n",
    "            historic_data_list.append(data)\n",
    "            i+=1\n",
    "    data_visualize(historic_data_list, start_time, end_time, self)\n",
    "\n",
    "def trading(current_price, positive_sentiment_percent, negative_sentiment_percent):\n",
    "    print(\"Positive Sentiment - Negative Sentiment (Net Positive)\", positive_sentiment_percent-negative_sentiment_percent)\n",
    "    if positive_sentiment_percent>1.5*negative_sentiment_percent:\n",
    "        #Buy\n",
    "        #use Khal's Code to place order, entries & exits\n",
    "        print(\"TEST - BUY SIGNAL\")\n",
    "        pass\n",
    "    if negative_sentiment_percent>1.5*positive_sentiment_percent:\n",
    "        #Sell\n",
    "        print(\"TEST - SELL SIGNAL\")\n",
    "        #use Khal's Code to place order, entries & exits\n",
    "        pass"
   ]
  },
  {
   "cell_type": "code",
   "execution_count": 5,
   "id": "detailed-opportunity",
   "metadata": {},
   "outputs": [
    {
     "name": "stdout",
     "output_type": "stream",
     "text": [
      "\n",
      "\n",
      "Time: 2021-06-11 22:14:54.778597\n",
      "Sentiment Values for Bitcoin\n",
      "Number of Tweets Analyzed: 200\n",
      "Positive tweets percentage: 36.781609 %\n",
      "Negative tweets percentage: 10.344828 %\n"
     ]
    }
   ],
   "source": [
    "positive_tweet_percentage, negative_tweet_percentage = main()"
   ]
  },
  {
   "cell_type": "markdown",
   "id": "equal-copying",
   "metadata": {},
   "source": [
    "## Bollinger Bands"
   ]
  },
  {
   "cell_type": "code",
   "execution_count": 6,
   "id": "southern-closing",
   "metadata": {},
   "outputs": [],
   "source": [
    "# Code Ref: https://github.com/IgorWounds/Kraken-API---A-Complete-Guide-Algotrading101/blob/main/Kraken%20Public%20Endpoints.ipynb"
   ]
  },
  {
   "cell_type": "code",
   "execution_count": 7,
   "id": "controlled-float",
   "metadata": {},
   "outputs": [
    {
     "name": "stderr",
     "output_type": "stream",
     "text": [
      "/Users/coneychiwabee/opt/anaconda3/envs/pyvizenv/lib/python3.7/site-packages/xarray/core/merge.py:10: FutureWarning: The Panel class is removed from pandas. Accessing it from the top-level namespace will also be removed in the next version\n",
      "  PANDAS_TYPES = (pd.Series, pd.DataFrame, pd.Panel)\n"
     ]
    }
   ],
   "source": [
    "# Initial imports\n",
    "from time import sleep\n",
    "import krakenex\n",
    "import requests\n",
    "import pandas as pd\n",
    "from pykrakenapi import KrakenAPI\n",
    "import plotly.graph_objects as go\n",
    "import plotly.express as px"
   ]
  },
  {
   "cell_type": "code",
   "execution_count": 8,
   "id": "lasting-clear",
   "metadata": {},
   "outputs": [],
   "source": [
    "# Set API keys and secret\n",
    "api = krakenex.API()\n",
    "k = KrakenAPI(api)\n",
    "#api.load_key('KrakenPass.txt')"
   ]
  },
  {
   "cell_type": "code",
   "execution_count": 9,
   "id": "consecutive-enforcement",
   "metadata": {},
   "outputs": [],
   "source": [
    "# Get asset info\n",
    "data = k.get_asset_info()"
   ]
  },
  {
   "cell_type": "code",
   "execution_count": 10,
   "id": "subsequent-basic",
   "metadata": {},
   "outputs": [
    {
     "name": "stdout",
     "output_type": "stream",
     "text": [
      "public call frequency exceeded (seconds=0.253886) \n",
      " sleeping for 5 seconds\n"
     ]
    }
   ],
   "source": [
    "# Get prices\n",
    "ticker = k.get_ticker_information('BTCUSD')"
   ]
  },
  {
   "cell_type": "code",
   "execution_count": 11,
   "id": "better-guess",
   "metadata": {},
   "outputs": [],
   "source": [
    "data1 = requests.get('https://api.kraken.com/0/public/Assets').json()"
   ]
  },
  {
   "cell_type": "markdown",
   "id": "fancy-mileage",
   "metadata": {},
   "source": [
    "## 1. Historical Data"
   ]
  },
  {
   "cell_type": "code",
   "execution_count": 12,
   "id": "scheduled-management",
   "metadata": {},
   "outputs": [
    {
     "name": "stdout",
     "output_type": "stream",
     "text": [
      "public call frequency exceeded (seconds=0.347482) \n",
      " sleeping for 5 seconds\n"
     ]
    }
   ],
   "source": [
    "ohlc = k.get_ohlc_data('BTCUSD', interval=1440, ascending = True)\n",
    "# Drop NAs (Should we replace NAs?)\n",
    "ohlc[0]['close'] = ohlc[0]['close'].dropna()\n",
    "#ohlc[0]"
   ]
  },
  {
   "cell_type": "markdown",
   "id": "opponent-russell",
   "metadata": {},
   "source": [
    "# Trading Signal Features"
   ]
  },
  {
   "cell_type": "markdown",
   "id": "sealed-effectiveness",
   "metadata": {},
   "source": [
    "---"
   ]
  },
  {
   "cell_type": "markdown",
   "id": "hearing-maker",
   "metadata": {},
   "source": [
    "### Import Libraries and Dependencies"
   ]
  },
  {
   "cell_type": "code",
   "execution_count": 13,
   "id": "threaded-recruitment",
   "metadata": {},
   "outputs": [],
   "source": [
    "# Import libraries and dependencies\n",
    "import pandas as pd\n",
    "import numpy as np\n",
    "from pathlib import Path\n",
    "%matplotlib inline\n",
    "\n",
    "import warnings\n",
    "warnings.filterwarnings('ignore')"
   ]
  },
  {
   "cell_type": "markdown",
   "id": "private-injury",
   "metadata": {},
   "source": [
    "### Construct Bollinger Band (Trading Signal)"
   ]
  },
  {
   "cell_type": "code",
   "execution_count": 14,
   "id": "otherwise-tennessee",
   "metadata": {},
   "outputs": [],
   "source": [
    "# Set bollinger band window\n",
    "bollinger_window = 20\n",
    "\n",
    "# Calculate rolling mean and standard deviation\n",
    "ohlc[0]['bollinger_mid_band'] = ohlc[0]['close'].rolling(window=bollinger_window).mean()\n",
    "ohlc[0]['bollinger_std'] = ohlc[0]['close'].rolling(window=20).std()\n",
    "\n",
    "# Calculate upper and lowers bands of bollinger band\n",
    "ohlc[0]['bollinger_upper_band']  = ohlc[0]['bollinger_mid_band'] + (ohlc[0]['bollinger_std'] * 1)\n",
    "ohlc[0]['bollinger_lower_band']  = ohlc[0]['bollinger_mid_band'] - (ohlc[0]['bollinger_std'] * 1)\n",
    "\n",
    "# Calculate bollinger band trading signal\n",
    "ohlc[0]['bollinger_long'] = np.where(ohlc[0]['close'] < ohlc[0]['bollinger_lower_band'], 1.0, 0.0)\n",
    "ohlc[0]['bollinger_short'] = np.where(ohlc[0]['close'] > ohlc[0]['bollinger_upper_band'], -1.0, 0.0)\n",
    "ohlc[0]['bollinger_signal'] = ohlc[0]['bollinger_long'] + ohlc[0]['bollinger_short']\n",
    "#ohlc[0]['bollinger_signal'].tail()"
   ]
  },
  {
   "cell_type": "markdown",
   "id": "hourly-fence",
   "metadata": {},
   "source": [
    "### Plot Bollinger Bands"
   ]
  },
  {
   "cell_type": "code",
   "execution_count": 15,
   "id": "capable-liverpool",
   "metadata": {},
   "outputs": [],
   "source": [
    "# Plot the Bollinger Bands for BTC/USD closing prices\n",
    "#ohlc[0][['close','bollinger_mid_band','bollinger_upper_band','bollinger_lower_band']].plot(figsize=(20,10))"
   ]
  },
  {
   "cell_type": "code",
   "execution_count": 16,
   "id": "severe-sodium",
   "metadata": {},
   "outputs": [
    {
     "name": "stdout",
     "output_type": "stream",
     "text": [
      "IT’S A GOOD TIME TO HOLD! WHY? BECAUSE BITCOIN IS NEITHER OVERVALUED NOR UNDERVALUED AND TWITTER IS NEUTRAL ON BITCOIN!\n"
     ]
    }
   ],
   "source": [
    "# bollinger signal 1 = buy, 0 = hold, -1 = sell\n",
    "# sentiment signal 1 = buy, 0 = hold, -1 = sell\n",
    "if positive_tweet_percentage > 50:\n",
    "    sentiment_signal = 1\n",
    "elif negative_tweet_percentage > 50:\n",
    "    sentiment_signal = -1\n",
    "else: sentiment_signal = 0\n",
    "\n",
    "bollinger_signal = ohlc[0]['bollinger_signal'][-1]\n",
    "\n",
    "def get_genie_decision(bollinger_signal, sentiment_signal):\n",
    "    if bollinger_signal == 1 and sentiment_signal == 1:\n",
    "        print(\"IT’S A GOOD TIME TO BUY! WHY? BECAUSE BITCOIN IS UNDERVALUED AND TWITTER IS BULLISH ON BITCOIN!\")\n",
    "    if bollinger_signal == 1 and sentiment_signal == 0:\n",
    "        print(\"IT’S A GOOD TIME TO BUY! WHY? BECAUSE BITCOIN IS UNDERVALUED AND TWITTER IS NEUTRAL ON BITCOIN!\")\n",
    "    if bollinger_signal == 1 and sentiment_signal == -1:\n",
    "        print(\"IT’S A GOOD TIME TO SELL! WHY? BECAUSE EVEN THOUGH BITCOIN IS UNDERVALUED, TWITTER IS BEARISH ON BITCOIN!\")\n",
    "    if bollinger_signal == 0 and sentiment_signal == 1:\n",
    "        print(\"IT’S A GOOD TIME TO BUY! WHY? BECAUSE EVEN THOUGH BITCOIN IS NOT UNDERVALUED, TWITTER IS BULLISH ON BITCOIN!\")\n",
    "    if bollinger_signal == 0 and sentiment_signal == 0:\n",
    "        print(\"IT’S A GOOD TIME TO HOLD! WHY? BECAUSE BITCOIN IS NEITHER OVERVALUED NOR UNDERVALUED AND TWITTER IS NEUTRAL ON BITCOIN!\")\n",
    "    if bollinger_signal == 0 and sentiment_signal == -1:\n",
    "        print(\"IT’S A GOOD TIME TO SELL! WHY? BECAUSE EVEN THOUGH BITCOIN IS NOT OVERVALUED, TWITTER IS BEARISH ON BITCOIN!\")\n",
    "    if bollinger_signal == -1 and sentiment_signal == 1:\n",
    "        print(\"IT’S A GOOD TIME TO BUY! WHY? BECAUSE EVEN THOUGH BITCOIN IS OVERVALUED, TWITTER IS BULLISH ON BITCOIN!\")\n",
    "    if bollinger_signal == -1 and sentiment_signal == 0:\n",
    "        print(\"IT’S A GOOD TIME TO SELL! WHY? BECAUSE BITCOIN IS OVERVALUED AND TWITTER IS NEUTRAL ON BITCOIN!\")\n",
    "    if bollinger_signal == -1 and sentiment_signal == -1:\n",
    "        print(\"IT’S A GOOD TIME TO SELL! WHY? BECAUSE BITCOIN IS OVERVALUED AND TWITTER IS BEARISH ON BITCOIN!\")\n",
    "\n",
    "#print(\"bollinger signal =\" , bollinger_signal, \"sentiment signal =\" , sentiment_signal)\n",
    "get_genie_decision(bollinger_signal, sentiment_signal)"
   ]
  },
  {
   "cell_type": "code",
   "execution_count": null,
   "id": "tight-michigan",
   "metadata": {},
   "outputs": [],
   "source": []
  }
 ],
 "metadata": {
  "kernelspec": {
   "display_name": "Python [conda env:pyvizenv] *",
   "language": "python",
   "name": "conda-env-pyvizenv-py"
  },
  "language_info": {
   "codemirror_mode": {
    "name": "ipython",
    "version": 3
   },
   "file_extension": ".py",
   "mimetype": "text/x-python",
   "name": "python",
   "nbconvert_exporter": "python",
   "pygments_lexer": "ipython3",
   "version": "3.7.7"
  }
 },
 "nbformat": 4,
 "nbformat_minor": 5
}
