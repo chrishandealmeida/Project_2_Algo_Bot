{
 "cells": [
  {
   "cell_type": "code",
   "execution_count": 1,
   "id": "pending-gauge",
   "metadata": {},
   "outputs": [],
   "source": [
    " # Import libraries and dependencies\n",
    "import ccxt\n",
    "import os\n",
    "import pandas as pd\n",
    "from newsapi import NewsApiClient\n",
    "from dotenv import load_dotenv"
   ]
  },
  {
   "cell_type": "code",
   "execution_count": 2,
   "id": "labeled-warning",
   "metadata": {},
   "outputs": [],
   "source": [
    "# Code Ref: https://blog.quantinsti.com/fundamental-sentiment-analysis-data/"
   ]
  },
  {
   "cell_type": "code",
   "execution_count": 3,
   "id": "classified-summer",
   "metadata": {},
   "outputs": [
    {
     "name": "stdout",
     "output_type": "stream",
     "text": [
      "New key data type: <class 'str'>\n"
     ]
    }
   ],
   "source": [
    "# Load environment variables\n",
    "os.getcwd()\n",
    "load_dotenv()\n",
    "\n",
    "# Load env variables and read the News API Key enviroment variable\n",
    "load_dotenv()\n",
    "api_key = os.getenv(\"NEWS_API_KEY\")\n",
    "\n",
    "# Create a newsapi client..\n",
    "newsapi = NewsApiClient(api_key=api_key)\n",
    "\n",
    "# Verify that environment variables were loaded\n",
    "print(f\"New key data type: {type(api_key)}\")"
   ]
  },
  {
   "cell_type": "code",
   "execution_count": 4,
   "id": "falling-mention",
   "metadata": {},
   "outputs": [],
   "source": [
    "# /v2/top-headlines..\n",
    "top_headlines = newsapi.get_top_headlines(q='Elon Musk',\n",
    "                                         category='business',\n",
    "                                         language='en',\n",
    "                                         country='us')"
   ]
  },
  {
   "cell_type": "code",
   "execution_count": 5,
   "id": "aquatic-skirt",
   "metadata": {},
   "outputs": [],
   "source": [
    "# Search all articles.\n",
    "# Note on News API plan limitations: Max number of 31 days (from today) for articles search\n",
    "all_articles = newsapi.get_everything(q='bitcoin',\n",
    "                                     sources='bbc-news,the-verge',\n",
    "                                     domains='bbc.co.uk,techcrunch.com',\n",
    "                                     from_param='2021-05-06',\n",
    "                                     to='2021-06-06',\n",
    "                                     language='en',\n",
    "                                     sort_by='relevancy',\n",
    "                                     page=1)"
   ]
  },
  {
   "cell_type": "code",
   "execution_count": 6,
   "id": "utility-trinity",
   "metadata": {},
   "outputs": [
    {
     "name": "stdout",
     "output_type": "stream",
     "text": [
      "Elon Musk blasted by Anonymous hackers after cryptic crypto tweets - Fox Business\n",
      "Elon Musk Agrees With Ethereum Co-Founder Vitalik Buterin In BTC Vs ETH Debate - Benzinga\n"
     ]
    }
   ],
   "source": [
    "# /v2/sources\n",
    "sources = newsapi.get_sources()\n",
    "for headline in top_headlines['articles']:\n",
    "    print(headline['title'])"
   ]
  },
  {
   "cell_type": "code",
   "execution_count": null,
   "id": "olympic-international",
   "metadata": {},
   "outputs": [],
   "source": [
    "\n"
   ]
  }
 ],
 "metadata": {
  "kernelspec": {
   "display_name": "Python [conda env:pyvizenv] *",
   "language": "python",
   "name": "conda-env-pyvizenv-py"
  },
  "language_info": {
   "codemirror_mode": {
    "name": "ipython",
    "version": 3
   },
   "file_extension": ".py",
   "mimetype": "text/x-python",
   "name": "python",
   "nbconvert_exporter": "python",
   "pygments_lexer": "ipython3",
   "version": "3.7.7"
  }
 },
 "nbformat": 4,
 "nbformat_minor": 5
}
