{
 "cells": [
  {
   "cell_type": "markdown",
   "id": "moved-promise",
   "metadata": {},
   "source": [
    "## IMPORTS"
   ]
  },
  {
   "cell_type": "code",
   "execution_count": 22,
   "id": "worthy-instruction",
   "metadata": {},
   "outputs": [],
   "source": [
    "#Twitter Sentiment Analysis Imports\n",
    "import os\n",
    "import tweepy\n",
    "import textblob\n",
    "import time\n",
    "import re\n",
    "from tweepy import OAuthHandler\n",
    "from textblob import TextBlob\n",
    "from datetime import datetime\n",
    "import matplotlib.pyplot as plt\n",
    "import requests, json\n",
    "from time import sleep\n",
    "\n",
    "#Bollinger Band Imports\n",
    "from time import sleep\n",
    "import krakenex\n",
    "import requests\n",
    "import pandas as pd\n",
    "from pykrakenapi import KrakenAPI\n",
    "import plotly.graph_objects as go\n",
    "import plotly.express as px\n",
    "\n",
    "# Import libraries and dependencies\n",
    "import pandas as pd\n",
    "import numpy as np\n",
    "from pathlib import Path\n",
    "%matplotlib inline\n",
    "import warnings\n",
    "warnings.filterwarnings('ignore')\n",
    "import tkinter as tk"
   ]
  },
  {
   "cell_type": "markdown",
   "id": "narrow-joining",
   "metadata": {},
   "source": [
    "## BITCOIN SENTIMENT ANALYSIS - TWITTER API"
   ]
  },
  {
   "cell_type": "code",
   "execution_count": 23,
   "id": "engaging-trick",
   "metadata": {},
   "outputs": [],
   "source": [
    "# Code ref: https://medium.com/@BlockchainEng/crypto-trading-bot-sentiment-analysis-bot-bfbd8dd1df5a"
   ]
  },
  {
   "cell_type": "code",
   "execution_count": 24,
   "id": "expressed-marriage",
   "metadata": {},
   "outputs": [],
   "source": [
    "class TwitterClient(object):\n",
    "    '''\n",
    "    Generic Twitter Class for sentiment analysis.\n",
    "    '''\n",
    "    def __init__(self):\n",
    "        '''\n",
    "        Class constructor or initialization method.\n",
    "        '''\n",
    "        \n",
    "        # keys and tokens from the Twitter Dev Console\n",
    "        consumer_key = 'vU0U124x884mQKjXP0XVUyeOV'\n",
    "        consumer_secret = 'PHnqYoo0bFvA3IRbx6y4Ku0OVDxGF0Gz1bfAV8EDJAJ6DD1Cpq'\n",
    "        access_token = '1327003820359118848-ecWID7cDZmq8yRWRanh5kB77wlk91M'\n",
    "        access_token_secret = 'chjFwYwMykw4P8xMwjrR3nXRg7irWuQbhJqlX69gCTxja'\n",
    "  \n",
    "\n",
    "        # attempt authentication\n",
    "        try:\n",
    "            # create OAuthHandler object\n",
    "            self.auth = OAuthHandler(consumer_key, consumer_secret)\n",
    "            # set access token and secret\n",
    "            self.auth.set_access_token(access_token, access_token_secret)\n",
    "            # create tweepy API object to fetch tweets\n",
    "            self.api = tweepy.API(self.auth)\n",
    "        except:\n",
    "            print(\"Error: Authentication Failed\")\n",
    "\n",
    "    def clean_tweet(self, tweet):\n",
    "        '''\n",
    "        Utility function to clean tweet text by removing links, special characters\n",
    "        using simple regex statements.\n",
    "        '''\n",
    "        return ' '.join(re.sub(\"(@[A-Za-z0-9]+)|([^0-9A-Za-z \\t])|(\\w+:\\/\\/\\S+)\", \" \", tweet).split())\n",
    "\n",
    "    def get_tweet_sentiment(self, tweet):\n",
    "        '''\n",
    "        Utility function to classify sentiment of passed tweet\n",
    "        using textblob's sentiment method\n",
    "        '''\n",
    "        # create TextBlob object of passed tweet text\n",
    "        analysis = TextBlob(self.clean_tweet(tweet))\n",
    "        # set sentiment\n",
    "        if analysis.sentiment.polarity > 0:\n",
    "            return 'positive'\n",
    "        elif analysis.sentiment.polarity == 0:\n",
    "            return 'neutral'\n",
    "        else:\n",
    "            return 'negative'\n",
    "\n",
    "    def tweet_file(self):\n",
    "        self.message=\"Sentiment Analysis by @BlockchainEng\"\n",
    "        self.filename='SentimentAnalysis.png'\n",
    "        print(self)\n",
    "        self.api.update_with_media(message = self.message, filename= self.filename)\n",
    "\n",
    "    def get_tweets(self, query, count = 10):\n",
    "        '''\n",
    "        Main function to fetch tweets and parse them.\n",
    "        '''\n",
    "        # empty list to store parsed tweets\n",
    "        tweets = []\n",
    "\n",
    "        try:\n",
    "            # call twitter api to fetch tweets\n",
    "            fetched_tweets = self.api.search(q = query, count = count)\n",
    "\n",
    "            # parsing tweets one by one\n",
    "            list_of_tweets = []\n",
    "            for tweet in fetched_tweets:\n",
    "\n",
    "                # empty dictionary to store required params of a tweet\n",
    "                parsed_tweet = {}\n",
    "\n",
    "                # saving text of tweet\n",
    "                #tweet1 =\n",
    "                #tweet1=TwitterClient.api.clean_tweet(tweet_text)\n",
    "                parsed_tweet['text'] = tweet.text\n",
    "                list_of_tweets.append(tweet.text)\n",
    "                # saving sentiment of tweet\n",
    "                parsed_tweet['sentiment'] = self.get_tweet_sentiment(tweet.text)\n",
    "\n",
    "                # appending parsed tweet to tweets list\n",
    "                if tweet.retweet_count > 0:\n",
    "                    # if tweet has retweets, ensure that it is appended only once\n",
    "                    if parsed_tweet not in tweets:\n",
    "                        tweets.append(parsed_tweet)\n",
    "                else:\n",
    "                    tweets.append(parsed_tweet)\n",
    "\n",
    "            # return parsed tweets\n",
    "            with open('TweetHistory.txt', 'a+') as f1:\n",
    "                for tweet in list_of_tweets:\n",
    "                    try:\n",
    "                        f1.write(tweet)\n",
    "                    except:\n",
    "                        pass\n",
    "\n",
    "            return tweets\n",
    "\n",
    "        except tweepy.TweepError as e:\n",
    "            # print error (if any)\n",
    "            print(\"Error : \" + str(e))\n",
    "\n",
    "\n",
    "def main():\n",
    "    # creating object of TwitterClient Class\n",
    "    api = TwitterClient()\n",
    "    # calling function to get tweets\n",
    "    search_term = 'Bitcoin'\n",
    "    list_coins=['Bitcoin'] #, 'Ethereum', 'EOS', 'Cryptocurrency', 'Blockchain', 'BTC'] #'Donald Trump', 'Barack Obama', 'George Washington']\n",
    "    count1=200\n",
    "    list_coin_val = []\n",
    "    start_time = datetime.now()\n",
    "    try:\n",
    "        for i in range(0,1):\n",
    "            #This For Loop controls how many data 'cycles' are collected before visualization and tweeting\n",
    "            for coin in list_coins:\n",
    "                tweets = api.get_tweets(query = coin, count = count1)\n",
    "\n",
    "                # picking positive tweets from tweets\n",
    "                ptweets = [tweet for tweet in tweets if tweet['sentiment'] == 'positive']\n",
    "                # percentage of positive tweets\n",
    "                print(\"\\n\\nTime: {}\".format(str(datetime.now())))\n",
    "                print(\"Sentiment Values for {}\\nNumber of Tweets Analyzed: {}\".format(coin, count1))\n",
    "                positive_tweet_percentage = round(100*len(ptweets)/len(tweets),6)\n",
    "                print(\"Positive tweets percentage: {} %\".format(positive_tweet_percentage))\n",
    "                # picking negative tweets from tweets\n",
    "                ntweets = [tweet for tweet in tweets if tweet['sentiment'] == 'negative']\n",
    "                # percentage of negative tweets\n",
    "                negative_tweet_percentage = round(100*len(ntweets)/len(tweets),6)\n",
    "                print(\"Negative tweets percentage: {} %\".format(negative_tweet_percentage))\n",
    "        return positive_tweet_percentage, negative_tweet_percentage\n",
    "    except:\n",
    "        print(\"ERROR - COLLECTING DATA\")"
   ]
  },
  {
   "cell_type": "markdown",
   "id": "secondary-exchange",
   "metadata": {},
   "source": [
    "#### Saving sentiment and price data into CSV for our own analysis (Extra)"
   ]
  },
  {
   "cell_type": "code",
   "execution_count": 25,
   "id": "distinguished-encounter",
   "metadata": {},
   "outputs": [],
   "source": [
    "# Saving historical sentiment analysis data for our own analysis.\n",
    "def save_to_file(coin, positive_tweet_percentage, negative_tweet_percentage, neutral_tweet_percentage, time, current_price, filename = \"SentimentHistorical.csv\"):\n",
    "    with open(filename, 'a+') as  f:\n",
    "        line = coin, positive_tweet_percentage, negative_tweet_percentage, neutral_tweet_percentage, time, current_price\n",
    "        f.writelines(str(line) + '\\n')\n",
    "        \n",
    "# Saving historical price data for our own analysis.\n",
    "def getBitcoinPrice():\n",
    "    URL = 'https://www.bitstamp.net/api/ticker/'\n",
    "    try:\n",
    "        r = requests.get(URL)\n",
    "        priceFloat = float(json.loads(r.text)['last'])\n",
    "        return priceFloat\n",
    "    except requests.ConnectionError:\n",
    "        print(\"Error querying Bitstamp API\")\n",
    "        \n",
    "def tweet_file(self, message, filename):\n",
    "    self.api.update_with_media(message, filename)\n",
    "    \n",
    "def historic_data_viz(self):\n",
    "    #Load Historic Data and Visual into graph form for entire recorded amount\n",
    "    historic_data_list = []\n",
    "    i=0\n",
    "    with open('SentimentHistorical.csv') as f1:\n",
    "        lines = list(f1.readlines())\n",
    "        for line in lines:\n",
    "            print(line)\n",
    "            data=list(line.split(','))\n",
    "            print(data)\n",
    "            if i==0:\n",
    "                start_time=data[5]\n",
    "            if i==len(f1.readlines()):\n",
    "                end_time=data[5]\n",
    "            historic_data_list.append(data)\n",
    "            i+=1\n",
    "    data_visualize(historic_data_list, start_time, end_time, self)\n",
    "\n",
    "def trading(current_price, positive_sentiment_percent, negative_sentiment_percent):\n",
    "    print(\"Positive Sentiment - Negative Sentiment (Net Positive)\", positive_sentiment_percent-negative_sentiment_percent)\n",
    "    if positive_sentiment_percent>1.5*negative_sentiment_percent:\n",
    "        #Buy\n",
    "        #use Khal's Code to place order, entries & exits\n",
    "        print(\"TEST - BUY SIGNAL\")\n",
    "        pass\n",
    "    if negative_sentiment_percent>1.5*positive_sentiment_percent:\n",
    "        #Sell\n",
    "        print(\"TEST - SELL SIGNAL\")\n",
    "        #use Khal's Code to place order, entries & exits\n",
    "        pass"
   ]
  },
  {
   "cell_type": "markdown",
   "id": "radical-petersburg",
   "metadata": {},
   "source": [
    "#### Printing sample of our sentiment analysis"
   ]
  },
  {
   "cell_type": "code",
   "execution_count": 26,
   "id": "reasonable-service",
   "metadata": {},
   "outputs": [
    {
     "name": "stdout",
     "output_type": "stream",
     "text": [
      "\n",
      "\n",
      "Time: 2021-06-19 19:36:03.058447\n",
      "Sentiment Values for Bitcoin\n",
      "Number of Tweets Analyzed: 200\n",
      "Positive tweets percentage: 36.666667 %\n",
      "Negative tweets percentage: 12.222222 %\n"
     ]
    }
   ],
   "source": [
    "positive_tweet_percentage, negative_tweet_percentage = main()"
   ]
  },
  {
   "cell_type": "markdown",
   "id": "confidential-hardware",
   "metadata": {},
   "source": [
    "## BITCOIN BOLLINGER BAND ANALYSIS - KRAKEN API"
   ]
  },
  {
   "cell_type": "code",
   "execution_count": 27,
   "id": "adult-keyboard",
   "metadata": {},
   "outputs": [],
   "source": [
    "# Code Ref: https://github.com/IgorWounds/Kraken-API---A-Complete-Guide-Algotrading101/blob/main/Kraken%20Public%20Endpoints.ipynb"
   ]
  },
  {
   "cell_type": "markdown",
   "id": "insured-transfer",
   "metadata": {},
   "source": [
    "#### Create Bitcoin price dataframe"
   ]
  },
  {
   "cell_type": "code",
   "execution_count": 28,
   "id": "helpful-graham",
   "metadata": {},
   "outputs": [],
   "source": [
    "# Set API keys and secret\n",
    "api = krakenex.API()\n",
    "k = KrakenAPI(api)\n",
    "#api.load_key('KrakenPass.txt')"
   ]
  },
  {
   "cell_type": "code",
   "execution_count": 29,
   "id": "coordinated-damage",
   "metadata": {},
   "outputs": [],
   "source": [
    "# Get asset info\n",
    "data = k.get_asset_info()"
   ]
  },
  {
   "cell_type": "code",
   "execution_count": 30,
   "id": "enhanced-centre",
   "metadata": {},
   "outputs": [
    {
     "name": "stdout",
     "output_type": "stream",
     "text": [
      "public call frequency exceeded (seconds=0.572795) \n",
      " sleeping for 5 seconds\n"
     ]
    }
   ],
   "source": [
    "# Get prices\n",
    "ticker = k.get_ticker_information('BTCUSD')"
   ]
  },
  {
   "cell_type": "code",
   "execution_count": 31,
   "id": "formal-recall",
   "metadata": {},
   "outputs": [],
   "source": [
    "data1 = requests.get('https://api.kraken.com/0/public/Assets').json()"
   ]
  },
  {
   "cell_type": "code",
   "execution_count": 32,
   "id": "right-mixture",
   "metadata": {},
   "outputs": [
    {
     "name": "stdout",
     "output_type": "stream",
     "text": [
      "public call frequency exceeded (seconds=0.371769) \n",
      " sleeping for 5 seconds\n"
     ]
    },
    {
     "data": {
      "text/html": [
       "<div>\n",
       "<style scoped>\n",
       "    .dataframe tbody tr th:only-of-type {\n",
       "        vertical-align: middle;\n",
       "    }\n",
       "\n",
       "    .dataframe tbody tr th {\n",
       "        vertical-align: top;\n",
       "    }\n",
       "\n",
       "    .dataframe thead th {\n",
       "        text-align: right;\n",
       "    }\n",
       "</style>\n",
       "<table border=\"1\" class=\"dataframe\">\n",
       "  <thead>\n",
       "    <tr style=\"text-align: right;\">\n",
       "      <th></th>\n",
       "      <th>time</th>\n",
       "      <th>open</th>\n",
       "      <th>high</th>\n",
       "      <th>low</th>\n",
       "      <th>close</th>\n",
       "      <th>vwap</th>\n",
       "      <th>volume</th>\n",
       "      <th>count</th>\n",
       "    </tr>\n",
       "    <tr>\n",
       "      <th>dtime</th>\n",
       "      <th></th>\n",
       "      <th></th>\n",
       "      <th></th>\n",
       "      <th></th>\n",
       "      <th></th>\n",
       "      <th></th>\n",
       "      <th></th>\n",
       "      <th></th>\n",
       "    </tr>\n",
       "  </thead>\n",
       "  <tbody>\n",
       "    <tr>\n",
       "      <th>2021-06-15</th>\n",
       "      <td>1623715200</td>\n",
       "      <td>40529.1</td>\n",
       "      <td>41341.8</td>\n",
       "      <td>39461.1</td>\n",
       "      <td>40166.6</td>\n",
       "      <td>40284.8</td>\n",
       "      <td>6924.353529</td>\n",
       "      <td>53714</td>\n",
       "    </tr>\n",
       "    <tr>\n",
       "      <th>2021-06-16</th>\n",
       "      <td>1623801600</td>\n",
       "      <td>40167.3</td>\n",
       "      <td>40493.0</td>\n",
       "      <td>38120.0</td>\n",
       "      <td>38337.1</td>\n",
       "      <td>39141.7</td>\n",
       "      <td>6487.206888</td>\n",
       "      <td>49793</td>\n",
       "    </tr>\n",
       "    <tr>\n",
       "      <th>2021-06-17</th>\n",
       "      <td>1623888000</td>\n",
       "      <td>38337.1</td>\n",
       "      <td>39561.4</td>\n",
       "      <td>37405.0</td>\n",
       "      <td>38078.2</td>\n",
       "      <td>38433.4</td>\n",
       "      <td>6003.220618</td>\n",
       "      <td>47838</td>\n",
       "    </tr>\n",
       "    <tr>\n",
       "      <th>2021-06-18</th>\n",
       "      <td>1623974400</td>\n",
       "      <td>38078.2</td>\n",
       "      <td>38193.1</td>\n",
       "      <td>35126.0</td>\n",
       "      <td>35824.0</td>\n",
       "      <td>36734.4</td>\n",
       "      <td>6558.468890</td>\n",
       "      <td>48363</td>\n",
       "    </tr>\n",
       "    <tr>\n",
       "      <th>2021-06-19</th>\n",
       "      <td>1624060800</td>\n",
       "      <td>35824.0</td>\n",
       "      <td>36450.0</td>\n",
       "      <td>34901.0</td>\n",
       "      <td>35522.7</td>\n",
       "      <td>35756.2</td>\n",
       "      <td>4297.020235</td>\n",
       "      <td>37642</td>\n",
       "    </tr>\n",
       "  </tbody>\n",
       "</table>\n",
       "</div>"
      ],
      "text/plain": [
       "                  time     open     high      low    close     vwap  \\\n",
       "dtime                                                                 \n",
       "2021-06-15  1623715200  40529.1  41341.8  39461.1  40166.6  40284.8   \n",
       "2021-06-16  1623801600  40167.3  40493.0  38120.0  38337.1  39141.7   \n",
       "2021-06-17  1623888000  38337.1  39561.4  37405.0  38078.2  38433.4   \n",
       "2021-06-18  1623974400  38078.2  38193.1  35126.0  35824.0  36734.4   \n",
       "2021-06-19  1624060800  35824.0  36450.0  34901.0  35522.7  35756.2   \n",
       "\n",
       "                 volume  count  \n",
       "dtime                           \n",
       "2021-06-15  6924.353529  53714  \n",
       "2021-06-16  6487.206888  49793  \n",
       "2021-06-17  6003.220618  47838  \n",
       "2021-06-18  6558.468890  48363  \n",
       "2021-06-19  4297.020235  37642  "
      ]
     },
     "execution_count": 32,
     "metadata": {},
     "output_type": "execute_result"
    }
   ],
   "source": [
    "#Create Bitcoin Closing Price Dataframe\n",
    "ohlc = k.get_ohlc_data('BTCUSD', interval=1440, ascending = True)\n",
    "# Drop NAs (Should we replace NAs?)\n",
    "ohlc[0]['close'] = ohlc[0]['close'].dropna()\n",
    "ohlc[0].tail()"
   ]
  },
  {
   "cell_type": "markdown",
   "id": "sitting-airplane",
   "metadata": {},
   "source": [
    "#### Construct Bollinger Band Trading Signal"
   ]
  },
  {
   "cell_type": "code",
   "execution_count": 33,
   "id": "spanish-reality",
   "metadata": {},
   "outputs": [
    {
     "data": {
      "text/plain": [
       "dtime\n",
       "2021-06-15   -1.0\n",
       "2021-06-16    0.0\n",
       "2021-06-17    0.0\n",
       "2021-06-18    0.0\n",
       "2021-06-19    0.0\n",
       "Freq: 1440T, Name: bollinger_signal, dtype: float64"
      ]
     },
     "execution_count": 33,
     "metadata": {},
     "output_type": "execute_result"
    }
   ],
   "source": [
    "# Set bollinger band window\n",
    "bollinger_window = 20\n",
    "\n",
    "# Calculate rolling mean and standard deviation\n",
    "ohlc[0]['bollinger_mid_band'] = ohlc[0]['close'].rolling(window=bollinger_window).mean()\n",
    "ohlc[0]['bollinger_std'] = ohlc[0]['close'].rolling(window=20).std()\n",
    "\n",
    "# Calculate upper and lowers bands of bollinger band\n",
    "ohlc[0]['bollinger_upper_band']  = ohlc[0]['bollinger_mid_band'] + (ohlc[0]['bollinger_std'] * 1)\n",
    "ohlc[0]['bollinger_lower_band']  = ohlc[0]['bollinger_mid_band'] - (ohlc[0]['bollinger_std'] * 1)\n",
    "\n",
    "# Calculate bollinger band trading signal\n",
    "ohlc[0]['bollinger_long'] = np.where(ohlc[0]['close'] < ohlc[0]['bollinger_lower_band'], 1.0, 0.0)\n",
    "ohlc[0]['bollinger_short'] = np.where(ohlc[0]['close'] > ohlc[0]['bollinger_upper_band'], -1.0, 0.0)\n",
    "ohlc[0]['bollinger_signal'] = ohlc[0]['bollinger_long'] + ohlc[0]['bollinger_short']\n",
    "ohlc[0]['bollinger_signal'].tail()"
   ]
  },
  {
   "cell_type": "code",
   "execution_count": 34,
   "id": "timely-luxury",
   "metadata": {},
   "outputs": [
    {
     "data": {
      "text/plain": [
       "<AxesSubplot:xlabel='dtime'>"
      ]
     },
     "execution_count": 34,
     "metadata": {},
     "output_type": "execute_result"
    },
    {
     "data": {
      "image/png": "[encoded data removed]",
      "text/plain": [
       "<Figure size 1440x720 with 1 Axes>"
      ]
     },
     "metadata": {
      "needs_background": "light"
     },
     "output_type": "display_data"
    }
   ],
   "source": [
    "# Plot the Bollinger Bands for BTC/USD closing prices (for our own visualization)\n",
    "ohlc[0][['close','bollinger_mid_band','bollinger_upper_band','bollinger_lower_band']].plot(figsize=(20,10))"
   ]
  },
  {
   "cell_type": "markdown",
   "id": "recreational-section",
   "metadata": {},
   "source": [
    "## CREATING BITCOIN GENIE'S DECISION-MAKING LOGIC"
   ]
  },
  {
   "cell_type": "code",
   "execution_count": 35,
   "id": "careful-applicant",
   "metadata": {},
   "outputs": [],
   "source": [
    "# Defining Get Genie Decision function\n",
    "def get_genie_decision(bollinger_signal, sentiment_signal):\n",
    "    if bollinger_signal == 1 and sentiment_signal == 1:\n",
    "        genie_decision = \"It's a good time to BUY! Why? Because BITCOIN is UNDERVALUED and TWITTER is BULLISH on Bitcoin!\"\n",
    "    elif bollinger_signal == 1 and sentiment_signal == 0:\n",
    "        genie_decision = \"It's a good time to BUY! Why? Because BITCOIN is UNDERVALUED and TWITTER IS NEUTRAL ON BITCOIN!\"\n",
    "    elif bollinger_signal == 1 and sentiment_signal == -1:\n",
    "        genie_decision = \"It's a good time to SELL! Why? Because EVEN THOUGH BITCOIN IS UNDERVALUED, TWITTER IS BEARISH ON BITCOIN!\"\n",
    "    elif bollinger_signal == 0 and sentiment_signal == 1:\n",
    "        genie_decision = \"It's a good time to BUY! Why? Because EVEN THOUGH BITCOIN IS NOT UNDERVALUED, TWITTER IS BULLISH ON BITCOIN!\"\n",
    "    elif bollinger_signal == 0 and sentiment_signal == 0:\n",
    "        genie_decision = \"It's a good time to HODL! Why? Because Bitcoin is neither overvalued nor undervalued and Twitter is neutral on Bitcoin!\"\n",
    "    elif bollinger_signal == 0 and sentiment_signal == -1:\n",
    "        genie_decision = \"It's a good time to SELL! Why? Because EVEN THOUGH BITCOIN IS NOT OVERVALUED, TWITTER IS BEARISH ON BITCOIN!\"\n",
    "    elif bollinger_signal == -1 and sentiment_signal == 1:\n",
    "        genie_decision = \"It's a good time to BUY! Why? Because EVEN THOUGH BITCOIN IS OVERVALUED, TWITTER IS BULLISH ON BITCOIN!\"\n",
    "    elif bollinger_signal == -1 and sentiment_signal == 0:\n",
    "        genie_decision = \"It's a good time to SELL! Why? Because BITCOIN IS OVERVALUED AND TWITTER IS NEUTRAL ON BITCOIN!\"\n",
    "    else: #bollinger_signal == -1 and sentiment_signal == -1\n",
    "        genie_decision = \"It's a good time to SELL! Why? Because BITCOIN IS OVERVALUED AND TWITTER IS BEARISH ON BITCOIN!\"\n",
    "    \n",
    "    return genie_decision"
   ]
  },
  {
   "cell_type": "code",
   "execution_count": 36,
   "id": "traditional-warner",
   "metadata": {},
   "outputs": [
    {
     "name": "stdout",
     "output_type": "stream",
     "text": [
      "0.0\n"
     ]
    }
   ],
   "source": [
    "# Defining OHLC update function\n",
    "def ohlc_update():\n",
    "    ohlc = k.get_ohlc_data('BTCUSD', interval=1440, ascending = True)\n",
    "    ohlc[0]['close'] = ohlc[0]['close'].dropna()\n",
    "    # Set bollinger band window\n",
    "    bollinger_window = 20\n",
    "\n",
    "    # Calculate rolling mean and standard deviation\n",
    "    ohlc[0]['bollinger_mid_band'] = ohlc[0]['close'].rolling(window=bollinger_window).mean()\n",
    "    ohlc[0]['bollinger_std'] = ohlc[0]['close'].rolling(window=20).std()\n",
    "\n",
    "    # Calculate upper and lowers bands of bollinger band\n",
    "    ohlc[0]['bollinger_upper_band']  = ohlc[0]['bollinger_mid_band'] + (ohlc[0]['bollinger_std'] * 1)\n",
    "    ohlc[0]['bollinger_lower_band']  = ohlc[0]['bollinger_mid_band'] - (ohlc[0]['bollinger_std'] * 1)\n",
    "\n",
    "    # Calculate bollinger band trading signal\n",
    "    ohlc[0]['bollinger_long'] = np.where(ohlc[0]['close'] < ohlc[0]['bollinger_lower_band'], 1.0, 0.0)\n",
    "    ohlc[0]['bollinger_short'] = np.where(ohlc[0]['close'] > ohlc[0]['bollinger_upper_band'], -1.0, 0.0)\n",
    "    ohlc[0]['bollinger_signal'] = ohlc[0]['bollinger_long'] + ohlc[0]['bollinger_short']\n",
    "    #print(\"ohlc updated\")\n",
    "    print(ohlc[0]['bollinger_signal'][-1])\n",
    "    \n",
    "ohlc_update()\n"
   ]
  },
  {
   "cell_type": "code",
   "execution_count": 37,
   "id": "confirmed-preliminary",
   "metadata": {},
   "outputs": [
    {
     "name": "stdout",
     "output_type": "stream",
     "text": [
      "\n",
      "\n",
      "Time: 2021-06-19 19:36:21.792229\n",
      "Sentiment Values for Bitcoin\n",
      "Number of Tweets Analyzed: 200\n",
      "Positive tweets percentage: 31.818182 %\n",
      "Negative tweets percentage: 10.227273 %\n"
     ]
    },
    {
     "data": {
      "text/plain": [
       "0"
      ]
     },
     "execution_count": 37,
     "metadata": {},
     "output_type": "execute_result"
    }
   ],
   "source": [
    "# Defining Get Sentiment Signal Function\n",
    "def get_sentiment_signal():\n",
    "    positive_tweet_percentage, negative_tweet_percentage = main()\n",
    "    if positive_tweet_percentage > 50:\n",
    "        sentiment_signal = 1\n",
    "    elif negative_tweet_percentage > 50:\n",
    "        sentiment_signal = -1\n",
    "    else: sentiment_signal = 0\n",
    "    return sentiment_signal\n",
    "\n",
    "get_sentiment_signal()"
   ]
  },
  {
   "cell_type": "code",
   "execution_count": 38,
   "id": "underlying-climate",
   "metadata": {},
   "outputs": [
    {
     "name": "stdout",
     "output_type": "stream",
     "text": [
      "running genie\n",
      "0.0\n",
      "\n",
      "\n",
      "Time: 2021-06-19 19:36:23.003417\n",
      "Sentiment Values for Bitcoin\n",
      "Number of Tweets Analyzed: 200\n",
      "Positive tweets percentage: 31.111111 %\n",
      "Negative tweets percentage: 12.222222 %\n"
     ]
    },
    {
     "data": {
      "text/plain": [
       "\"It's a good time to HODL! Why? Because Bitcoin is neither overvalued nor undervalued and Twitter is neutral on Bitcoin!\""
      ]
     },
     "execution_count": 38,
     "metadata": {},
     "output_type": "execute_result"
    }
   ],
   "source": [
    "# Defining Ask Genie Function\n",
    "def ask_genie():\n",
    "    print(\"running genie\")\n",
    "    ohlc_update()\n",
    "    sentiment_signal = get_sentiment_signal()\n",
    "    bollinger_signal = ohlc[0]['bollinger_signal'][-1]\n",
    "    #tk.messagebox.showinfo(\"Bitcoin Genie Says\", get_genie_decision(bollinger_signal, sentiment_signal))\n",
    "    return get_genie_decision(bollinger_signal, sentiment_signal)\n",
    "ask_genie()"
   ]
  },
  {
   "cell_type": "markdown",
   "id": "cellular-orbit",
   "metadata": {},
   "source": [
    "## CREATING BITCOIN GENIE'S USER INTERFACE"
   ]
  },
  {
   "cell_type": "code",
   "execution_count": null,
   "id": "nuclear-treat",
   "metadata": {},
   "outputs": [
    {
     "name": "stdout",
     "output_type": "stream",
     "text": [
      "running genie\n",
      "0.0\n",
      "\n",
      "\n",
      "Time: 2021-06-19 19:36:26.355059\n",
      "Sentiment Values for Bitcoin\n",
      "Number of Tweets Analyzed: 200\n",
      "Positive tweets percentage: 29.67033 %\n",
      "Negative tweets percentage: 12.087912 %\n",
      "running genie\n",
      "0.0\n",
      "\n",
      "\n",
      "Time: 2021-06-19 19:36:27.472836\n",
      "Sentiment Values for Bitcoin\n",
      "Number of Tweets Analyzed: 200\n",
      "Positive tweets percentage: 30.769231 %\n",
      "Negative tweets percentage: 12.087912 %\n"
     ]
    }
   ],
   "source": [
    "# Building User Interface using Tkinter\n",
    "root = tk.Tk()\n",
    "root.geometry('500x500')\n",
    "root.title(\"Bitcoin Genie\")\n",
    "\n",
    "label_0 = tk.Label(root, text=\"Bitcoin Genie\",width=20,font=(\"bold\", 36))\n",
    "label_0.place(x=-40,y=53)\n",
    "\n",
    "label_1 = tk.Label(root, text=\"“I can tell you whether to buy, hold, or sell Bitcoin at this moment”\",width=60,font=(\"bold\", 12))\n",
    "label_1.place(x=-20,y=110)\n",
    "\n",
    "label_2 = tk.Label(root, text=\"DISCLAIMER: THIS IS NOT FINANCIAL ADVICE!\",width=60,font=(\"bold\", 12))\n",
    "label_2.place(x=-20,y=450)\n",
    "\n",
    "def button_press():\n",
    "    label_response = tk.Text(root, height=3, width=50)\n",
    "    label_response.pack()\n",
    "    #label_response.insert(tk.END,\"\")\n",
    "    label_response.config(state=\"disabled\")\n",
    "    label_response.place(x=50,y=250)\n",
    "    response = ask_genie()\n",
    "    label_response.config(state=\"normal\")\n",
    "    label_response.insert(tk.END,ask_genie())\n",
    "    label_response.config(state=\"disabled\")\n",
    "\n",
    "b1=tk.Button(root,text=\"Ask ME!\",font=(\"bold\", 20),height=2,width=10,bg='blue',fg='white', command=button_press)\n",
    "b1.place(x=170,y=150)\n",
    "\n",
    "tk.mainloop()"
   ]
  },
  {
   "cell_type": "code",
   "execution_count": null,
   "id": "color-initial",
   "metadata": {},
   "outputs": [],
   "source": []
  }
 ],
 "metadata": {
  "kernelspec": {
   "display_name": "Python 3",
   "language": "python",
   "name": "python3"
  },
  "language_info": {
   "codemirror_mode": {
    "name": "ipython",
    "version": 3
   },
   "file_extension": ".py",
   "mimetype": "text/x-python",
   "name": "python",
   "nbconvert_exporter": "python",
   "pygments_lexer": "ipython3",
   "version": "3.8.5"
  }
 },
 "nbformat": 4,
 "nbformat_minor": 5
}
