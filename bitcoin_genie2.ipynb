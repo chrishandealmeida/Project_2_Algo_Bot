{
 "cells": [
  {
   "cell_type": "markdown",
   "id": "heard-russia",
   "metadata": {},
   "source": [
    "### IMPORTS"
   ]
  },
  {
   "cell_type": "code",
   "execution_count": 174,
   "id": "prostate-processing",
   "metadata": {},
   "outputs": [],
   "source": [
    "#Sentiment Analysis Imports\n",
    "import os\n",
    "import tweepy\n",
    "import textblob\n",
    "import time\n",
    "import re\n",
    "from tweepy import OAuthHandler\n",
    "from textblob import TextBlob\n",
    "from datetime import datetime\n",
    "import matplotlib.pyplot as plt\n",
    "import requests, json\n",
    "from time import sleep\n",
    "\n",
    "#Bollinger Band Imports\n",
    "from time import sleep\n",
    "import krakenex\n",
    "import requests\n",
    "import pandas as pd\n",
    "from pykrakenapi import KrakenAPI\n",
    "import plotly.graph_objects as go\n",
    "import plotly.express as px\n",
    "\n",
    "# Import libraries and dependencies\n",
    "import pandas as pd\n",
    "import numpy as np\n",
    "from pathlib import Path\n",
    "%matplotlib inline\n",
    "\n",
    "import warnings\n",
    "warnings.filterwarnings('ignore')\n",
    "\n",
    "import tkinter as tk"
   ]
  },
  {
   "cell_type": "markdown",
   "id": "existing-manitoba",
   "metadata": {},
   "source": [
    "### BITCOIN SENTIMENT ANALYSIS - TWITTER API"
   ]
  },
  {
   "cell_type": "code",
   "execution_count": 175,
   "id": "incorporate-canyon",
   "metadata": {},
   "outputs": [],
   "source": [
    "class TwitterClient(object):\n",
    "    '''\n",
    "    Generic Twitter Class for sentiment analysis.\n",
    "    '''\n",
    "    def __init__(self):\n",
    "        '''\n",
    "        Class constructor or initialization method.\n",
    "        '''\n",
    "        \n",
    "        # keys and tokens from the Twitter Dev Console\n",
    "        consumer_key = ' '\n",
    "        consumer_secret = ' '\n",
    "        access_token = ' '\n",
    "        access_token_secret = ' '\n",
    "  \n",
    "\n",
    "        # attempt authentication\n",
    "        try:\n",
    "            # create OAuthHandler object\n",
    "            self.auth = OAuthHandler(consumer_key, consumer_secret)\n",
    "            # set access token and secret\n",
    "            self.auth.set_access_token(access_token, access_token_secret)\n",
    "            # create tweepy API object to fetch tweets\n",
    "            self.api = tweepy.API(self.auth)\n",
    "        except:\n",
    "            print(\"Error: Authentication Failed\")\n",
    "\n",
    "    def clean_tweet(self, tweet):\n",
    "        '''\n",
    "        Utility function to clean tweet text by removing links, special characters\n",
    "        using simple regex statements.\n",
    "        '''\n",
    "        return ' '.join(re.sub(\"(@[A-Za-z0-9]+)|([^0-9A-Za-z \\t])|(\\w+:\\/\\/\\S+)\", \" \", tweet).split())\n",
    "\n",
    "    def get_tweet_sentiment(self, tweet):\n",
    "        '''\n",
    "        Utility function to classify sentiment of passed tweet\n",
    "        using textblob's sentiment method\n",
    "        '''\n",
    "        # create TextBlob object of passed tweet text\n",
    "        analysis = TextBlob(self.clean_tweet(tweet))\n",
    "        # set sentiment\n",
    "        if analysis.sentiment.polarity > 0:\n",
    "            return 'positive'\n",
    "        elif analysis.sentiment.polarity == 0:\n",
    "            return 'neutral'\n",
    "        else:\n",
    "            return 'negative'\n",
    "\n",
    "    def tweet_file(self):\n",
    "        self.message=\"Sentiment Analysis by @BlockchainEng\"\n",
    "        self.filename='SentimentAnalysis.png'\n",
    "        print(self)\n",
    "        self.api.update_with_media(message = self.message, filename= self.filename)\n",
    "\n",
    "    def get_tweets(self, query, count = 10):\n",
    "        '''\n",
    "        Main function to fetch tweets and parse them.\n",
    "        '''\n",
    "        # empty list to store parsed tweets\n",
    "        tweets = []\n",
    "\n",
    "        try:\n",
    "            # call twitter api to fetch tweets\n",
    "            fetched_tweets = self.api.search(q = query, count = count)\n",
    "\n",
    "            # parsing tweets one by one\n",
    "            list_of_tweets = []\n",
    "            for tweet in fetched_tweets:\n",
    "\n",
    "                # empty dictionary to store required params of a tweet\n",
    "                parsed_tweet = {}\n",
    "\n",
    "                # saving text of tweet\n",
    "                #tweet1 =\n",
    "                #tweet1=TwitterClient.api.clean_tweet(tweet_text)\n",
    "                parsed_tweet['text'] = tweet.text\n",
    "                list_of_tweets.append(tweet.text)\n",
    "                # saving sentiment of tweet\n",
    "                parsed_tweet['sentiment'] = self.get_tweet_sentiment(tweet.text)\n",
    "\n",
    "                # appending parsed tweet to tweets list\n",
    "                if tweet.retweet_count > 0:\n",
    "                    # if tweet has retweets, ensure that it is appended only once\n",
    "                    if parsed_tweet not in tweets:\n",
    "                        tweets.append(parsed_tweet)\n",
    "                else:\n",
    "                    tweets.append(parsed_tweet)\n",
    "\n",
    "            # return parsed tweets\n",
    "            with open('TweetHistory.txt', 'a+') as f1:\n",
    "                for tweet in list_of_tweets:\n",
    "                    try:\n",
    "                        f1.write(tweet)\n",
    "                    except:\n",
    "                        pass\n",
    "\n",
    "            return tweets\n",
    "\n",
    "        except tweepy.TweepError as e:\n",
    "            # print error (if any)\n",
    "            print(\"Error : \" + str(e))\n",
    "\n",
    "\n",
    "def main():\n",
    "    # creating object of TwitterClient Class\n",
    "    api = TwitterClient()\n",
    "    # calling function to get tweets\n",
    "    search_term = 'Bitcoin'\n",
    "    list_coins=['Bitcoin'] #, 'Ethereum', 'EOS', 'Cryptocurrency', 'Blockchain', 'BTC'] #'Donald Trump', 'Barack Obama', 'George Washington']\n",
    "    count1=200\n",
    "    list_coin_val = []\n",
    "    start_time = datetime.now()\n",
    "    try:\n",
    "        for i in range(0,1):\n",
    "            #This For Loop controls how many data 'cycles' are collected before visualization and tweeting\n",
    "            for coin in list_coins:\n",
    "                tweets = api.get_tweets(query = coin, count = count1)\n",
    "\n",
    "                # picking positive tweets from tweets\n",
    "                ptweets = [tweet for tweet in tweets if tweet['sentiment'] == 'positive']\n",
    "                # percentage of positive tweets\n",
    "                print(\"\\n\\nTime: {}\".format(str(datetime.now())))\n",
    "                print(\"Sentiment Values for {}\\nNumber of Tweets Analyzed: {}\".format(coin, count1))\n",
    "                positive_tweet_percentage = round(100*len(ptweets)/len(tweets),6)\n",
    "                print(\"Positive tweets percentage: {} %\".format(positive_tweet_percentage))\n",
    "                # picking negative tweets from tweets\n",
    "                ntweets = [tweet for tweet in tweets if tweet['sentiment'] == 'negative']\n",
    "                # percentage of negative tweets\n",
    "                negative_tweet_percentage = round(100*len(ntweets)/len(tweets),6)\n",
    "                print(\"Negative tweets percentage: {} %\".format(negative_tweet_percentage))\n",
    "        return positive_tweet_percentage, negative_tweet_percentage\n",
    "    except:\n",
    "        print(\"ERROR - COLLECTING DATA\")"
   ]
  },
  {
   "cell_type": "code",
   "execution_count": 176,
   "id": "infrared-command",
   "metadata": {},
   "outputs": [],
   "source": [
    "def save_to_file(coin, positive_tweet_percentage, negative_tweet_percentage, neutral_tweet_percentage, time, current_price, filename = \"SentimentHistorical.csv\"):\n",
    "    with open(filename, 'a+') as  f:\n",
    "        line = coin, positive_tweet_percentage, negative_tweet_percentage, neutral_tweet_percentage, time, current_price\n",
    "        f.writelines(str(line) + '\\n')"
   ]
  },
  {
   "cell_type": "code",
   "execution_count": 177,
   "id": "aboriginal-travel",
   "metadata": {},
   "outputs": [],
   "source": [
    "### TRADE & VISUALIZATION"
   ]
  },
  {
   "cell_type": "code",
   "execution_count": 178,
   "id": "coated-destiny",
   "metadata": {},
   "outputs": [],
   "source": [
    "def getBitcoinPrice():\n",
    "    URL = 'https://www.bitstamp.net/api/ticker/'\n",
    "    try:\n",
    "        r = requests.get(URL)\n",
    "        priceFloat = float(json.loads(r.text)['last'])\n",
    "        return priceFloat\n",
    "    except requests.ConnectionError:\n",
    "        print(\"Error querying Bitstamp API\")\n",
    "        \n",
    "def tweet_file(self, message, filename):\n",
    "    self.api.update_with_media(message, filename)\n",
    "    \n",
    "def historic_data_viz(self):\n",
    "    #Load Historic Data and Visual into graph form for entire recorded amount\n",
    "    historic_data_list = []\n",
    "    i=0\n",
    "    with open('SentimentHistorical.csv') as f1:\n",
    "        lines = list(f1.readlines())\n",
    "        for line in lines:\n",
    "            print(line)\n",
    "            data=list(line.split(','))\n",
    "            print(data)\n",
    "            if i==0:\n",
    "                start_time=data[5]\n",
    "            if i==len(f1.readlines()):\n",
    "                end_time=data[5]\n",
    "            historic_data_list.append(data)\n",
    "            i+=1\n",
    "    data_visualize(historic_data_list, start_time, end_time, self)\n",
    "\n",
    "def trading(current_price, positive_sentiment_percent, negative_sentiment_percent):\n",
    "    print(\"Positive Sentiment - Negative Sentiment (Net Positive)\", positive_sentiment_percent-negative_sentiment_percent)\n",
    "    if positive_sentiment_percent>1.5*negative_sentiment_percent:\n",
    "        #Buy\n",
    "        #use Khal's Code to place order, entries & exits\n",
    "        print(\"TEST - BUY SIGNAL\")\n",
    "        pass\n",
    "    if negative_sentiment_percent>1.5*positive_sentiment_percent:\n",
    "        #Sell\n",
    "        print(\"TEST - SELL SIGNAL\")\n",
    "        #use Khal's Code to place order, entries & exits\n",
    "        pass"
   ]
  },
  {
   "cell_type": "code",
   "execution_count": 179,
   "id": "minus-lingerie",
   "metadata": {},
   "outputs": [
    {
     "name": "stdout",
     "output_type": "stream",
     "text": [
      "\n",
      "\n",
      "Time: 2021-06-12 03:23:36.615488\n",
      "Sentiment Values for Bitcoin\n",
      "Number of Tweets Analyzed: 200\n",
      "Positive tweets percentage: 36.111111 %\n",
      "Negative tweets percentage: 15.277778 %\n"
     ]
    }
   ],
   "source": [
    "positive_tweet_percentage, negative_tweet_percentage = main()"
   ]
  },
  {
   "cell_type": "markdown",
   "id": "quantitative-demographic",
   "metadata": {},
   "source": [
    "## TECHNICAL ANALYSIS - KRAKEN API"
   ]
  },
  {
   "cell_type": "code",
   "execution_count": 180,
   "id": "complimentary-burke",
   "metadata": {},
   "outputs": [],
   "source": [
    "# Code Ref: https://github.com/IgorWounds/Kraken-API---A-Complete-Guide-Algotrading101/blob/main/Kraken%20Public%20Endpoints.ipynb"
   ]
  },
  {
   "cell_type": "code",
   "execution_count": 181,
   "id": "outer-colors",
   "metadata": {},
   "outputs": [],
   "source": [
    "# Set API keys and secret\n",
    "api = krakenex.API()\n",
    "k = KrakenAPI(api)\n",
    "#api.load_key('KrakenPass.txt')"
   ]
  },
  {
   "cell_type": "code",
   "execution_count": 182,
   "id": "subjective-perth",
   "metadata": {},
   "outputs": [],
   "source": [
    "# Get asset info\n",
    "data = k.get_asset_info()"
   ]
  },
  {
   "cell_type": "code",
   "execution_count": 183,
   "id": "clean-peninsula",
   "metadata": {},
   "outputs": [
    {
     "name": "stdout",
     "output_type": "stream",
     "text": [
      "public call frequency exceeded (seconds=0.252853) \n",
      " sleeping for 5 seconds\n"
     ]
    }
   ],
   "source": [
    "# Get prices\n",
    "ticker = k.get_ticker_information('BTCUSD')"
   ]
  },
  {
   "cell_type": "code",
   "execution_count": 184,
   "id": "endangered-college",
   "metadata": {},
   "outputs": [],
   "source": [
    "data1 = requests.get('https://api.kraken.com/0/public/Assets').json()"
   ]
  },
  {
   "cell_type": "code",
   "execution_count": 185,
   "id": "destroyed-approval",
   "metadata": {},
   "outputs": [
    {
     "name": "stdout",
     "output_type": "stream",
     "text": [
      "public call frequency exceeded (seconds=0.342799) \n",
      " sleeping for 5 seconds\n"
     ]
    },
    {
     "data": {
      "text/html": [
       "<div>\n",
       "<style scoped>\n",
       "    .dataframe tbody tr th:only-of-type {\n",
       "        vertical-align: middle;\n",
       "    }\n",
       "\n",
       "    .dataframe tbody tr th {\n",
       "        vertical-align: top;\n",
       "    }\n",
       "\n",
       "    .dataframe thead th {\n",
       "        text-align: right;\n",
       "    }\n",
       "</style>\n",
       "<table border=\"1\" class=\"dataframe\">\n",
       "  <thead>\n",
       "    <tr style=\"text-align: right;\">\n",
       "      <th></th>\n",
       "      <th>time</th>\n",
       "      <th>open</th>\n",
       "      <th>high</th>\n",
       "      <th>low</th>\n",
       "      <th>close</th>\n",
       "      <th>vwap</th>\n",
       "      <th>volume</th>\n",
       "      <th>count</th>\n",
       "    </tr>\n",
       "    <tr>\n",
       "      <th>dtime</th>\n",
       "      <th></th>\n",
       "      <th></th>\n",
       "      <th></th>\n",
       "      <th></th>\n",
       "      <th></th>\n",
       "      <th></th>\n",
       "      <th></th>\n",
       "      <th></th>\n",
       "    </tr>\n",
       "  </thead>\n",
       "  <tbody>\n",
       "    <tr>\n",
       "      <th>2021-06-08</th>\n",
       "      <td>1623110400</td>\n",
       "      <td>33578.6</td>\n",
       "      <td>34059.4</td>\n",
       "      <td>31017.4</td>\n",
       "      <td>33420.0</td>\n",
       "      <td>32712.0</td>\n",
       "      <td>10548.326943</td>\n",
       "      <td>72896</td>\n",
       "    </tr>\n",
       "    <tr>\n",
       "      <th>2021-06-09</th>\n",
       "      <td>1623196800</td>\n",
       "      <td>33409.7</td>\n",
       "      <td>37500.0</td>\n",
       "      <td>32420.4</td>\n",
       "      <td>37396.4</td>\n",
       "      <td>34956.4</td>\n",
       "      <td>9357.472109</td>\n",
       "      <td>65863</td>\n",
       "    </tr>\n",
       "    <tr>\n",
       "      <th>2021-06-10</th>\n",
       "      <td>1623283200</td>\n",
       "      <td>37398.9</td>\n",
       "      <td>38399.0</td>\n",
       "      <td>35803.7</td>\n",
       "      <td>36678.4</td>\n",
       "      <td>37034.3</td>\n",
       "      <td>7733.100593</td>\n",
       "      <td>56255</td>\n",
       "    </tr>\n",
       "    <tr>\n",
       "      <th>2021-06-11</th>\n",
       "      <td>1623369600</td>\n",
       "      <td>36684.5</td>\n",
       "      <td>37654.3</td>\n",
       "      <td>35952.7</td>\n",
       "      <td>37322.2</td>\n",
       "      <td>37016.7</td>\n",
       "      <td>5218.296832</td>\n",
       "      <td>37956</td>\n",
       "    </tr>\n",
       "    <tr>\n",
       "      <th>2021-06-12</th>\n",
       "      <td>1623456000</td>\n",
       "      <td>37322.2</td>\n",
       "      <td>37449.5</td>\n",
       "      <td>35031.4</td>\n",
       "      <td>35423.2</td>\n",
       "      <td>35974.7</td>\n",
       "      <td>2446.146619</td>\n",
       "      <td>16359</td>\n",
       "    </tr>\n",
       "  </tbody>\n",
       "</table>\n",
       "</div>"
      ],
      "text/plain": [
       "                  time     open     high      low    close     vwap  \\\n",
       "dtime                                                                 \n",
       "2021-06-08  1623110400  33578.6  34059.4  31017.4  33420.0  32712.0   \n",
       "2021-06-09  1623196800  33409.7  37500.0  32420.4  37396.4  34956.4   \n",
       "2021-06-10  1623283200  37398.9  38399.0  35803.7  36678.4  37034.3   \n",
       "2021-06-11  1623369600  36684.5  37654.3  35952.7  37322.2  37016.7   \n",
       "2021-06-12  1623456000  37322.2  37449.5  35031.4  35423.2  35974.7   \n",
       "\n",
       "                  volume  count  \n",
       "dtime                            \n",
       "2021-06-08  10548.326943  72896  \n",
       "2021-06-09   9357.472109  65863  \n",
       "2021-06-10   7733.100593  56255  \n",
       "2021-06-11   5218.296832  37956  \n",
       "2021-06-12   2446.146619  16359  "
      ]
     },
     "execution_count": 185,
     "metadata": {},
     "output_type": "execute_result"
    }
   ],
   "source": [
    "#Create Bitcoin Closing Price Dataframe\n",
    "ohlc = k.get_ohlc_data('BTCUSD', interval=1440, ascending = True)\n",
    "# Drop NAs (Should we replace NAs?)\n",
    "ohlc[0]['close'] = ohlc[0]['close'].dropna()\n",
    "ohlc[0].tail()"
   ]
  },
  {
   "cell_type": "markdown",
   "id": "level-hawaiian",
   "metadata": {},
   "source": [
    "---"
   ]
  },
  {
   "cell_type": "markdown",
   "id": "stuck-attitude",
   "metadata": {},
   "source": [
    "### Construct Bollinger Band (Trading Signal)"
   ]
  },
  {
   "cell_type": "code",
   "execution_count": 186,
   "id": "quiet-exclusion",
   "metadata": {},
   "outputs": [
    {
     "data": {
      "text/plain": [
       "dtime\n",
       "2021-06-08    1.0\n",
       "2021-06-09    0.0\n",
       "2021-06-10    0.0\n",
       "2021-06-11    0.0\n",
       "2021-06-12    0.0\n",
       "Freq: 1440T, Name: bollinger_signal, dtype: float64"
      ]
     },
     "execution_count": 186,
     "metadata": {},
     "output_type": "execute_result"
    }
   ],
   "source": [
    "# Set bollinger band window\n",
    "bollinger_window = 20\n",
    "\n",
    "# Calculate rolling mean and standard deviation\n",
    "ohlc[0]['bollinger_mid_band'] = ohlc[0]['close'].rolling(window=bollinger_window).mean()\n",
    "ohlc[0]['bollinger_std'] = ohlc[0]['close'].rolling(window=20).std()\n",
    "\n",
    "# Calculate upper and lowers bands of bollinger band\n",
    "ohlc[0]['bollinger_upper_band']  = ohlc[0]['bollinger_mid_band'] + (ohlc[0]['bollinger_std'] * 1)\n",
    "ohlc[0]['bollinger_lower_band']  = ohlc[0]['bollinger_mid_band'] - (ohlc[0]['bollinger_std'] * 1)\n",
    "\n",
    "# Calculate bollinger band trading signal\n",
    "ohlc[0]['bollinger_long'] = np.where(ohlc[0]['close'] < ohlc[0]['bollinger_lower_band'], 1.0, 0.0)\n",
    "ohlc[0]['bollinger_short'] = np.where(ohlc[0]['close'] > ohlc[0]['bollinger_upper_band'], -1.0, 0.0)\n",
    "ohlc[0]['bollinger_signal'] = ohlc[0]['bollinger_long'] + ohlc[0]['bollinger_short']\n",
    "ohlc[0]['bollinger_signal'].tail()"
   ]
  },
  {
   "cell_type": "code",
   "execution_count": 187,
   "id": "particular-drove",
   "metadata": {},
   "outputs": [
    {
     "data": {
      "text/plain": [
       "<AxesSubplot:xlabel='dtime'>"
      ]
     },
     "execution_count": 187,
     "metadata": {},
     "output_type": "execute_result"
    },
    {
     "data": {
      "image/png": "[encoded data removed]",
      "text/plain": [
       "<Figure size 1440x720 with 1 Axes>"
      ]
     },
     "metadata": {
      "needs_background": "light"
     },
     "output_type": "display_data"
    }
   ],
   "source": [
    "# Plot the Bollinger Bands for BTC/USD closing prices\n",
    "ohlc[0][['close','bollinger_mid_band','bollinger_upper_band','bollinger_lower_band']].plot(figsize=(20,10))"
   ]
  },
  {
   "cell_type": "code",
   "execution_count": 188,
   "id": "threaded-brighton",
   "metadata": {},
   "outputs": [],
   "source": [
    "# Defining Get Genie Decision function\n",
    "def get_genie_decision(bollinger_signal, sentiment_signal):\n",
    "    if bollinger_signal == 1 and sentiment_signal == 1:\n",
    "        genie_decision = \"It's a good time to BUY! Why? Because BITCOIN is UNDERVALUED and TWITTER is BULLISH on Bitcoin!\"\n",
    "    elif bollinger_signal == 1 and sentiment_signal == 0:\n",
    "        genie_decision = \"It's a good time to BUY! Why? Because BITCOIN is UNDERVALUED and TWITTER IS NEUTRAL ON BITCOIN!\"\n",
    "    elif bollinger_signal == 1 and sentiment_signal == -1:\n",
    "        genie_decision = \"It's a good time to SELL! Why? Because EVEN THOUGH BITCOIN IS UNDERVALUED, TWITTER IS BEARISH ON BITCOIN!\"\n",
    "    elif bollinger_signal == 0 and sentiment_signal == 1:\n",
    "        genie_decision = \"It's a good time to BUY! Why? Because EVEN THOUGH BITCOIN IS NOT UNDERVALUED, TWITTER IS BULLISH ON BITCOIN!\"\n",
    "    elif bollinger_signal == 0 and sentiment_signal == 0:\n",
    "        genie_decision = \"It's a good time to HODL! Why? Because Bitcoin is neither overvalued nor undervalued and Twitter is neutral on Bitcoin!\"\n",
    "    elif bollinger_signal == 0 and sentiment_signal == -1:\n",
    "        genie_decision = \"It's a good time to SELL! Why? Because EVEN THOUGH BITCOIN IS NOT OVERVALUED, TWITTER IS BEARISH ON BITCOIN!\"\n",
    "    elif bollinger_signal == -1 and sentiment_signal == 1:\n",
    "        genie_decision = \"It's a good time to BUY! Why? Because EVEN THOUGH BITCOIN IS OVERVALUED, TWITTER IS BULLISH ON BITCOIN!\"\n",
    "    elif bollinger_signal == -1 and sentiment_signal == 0:\n",
    "        genie_decision = \"It's a good time to SELL! Why? Because BITCOIN IS OVERVALUED AND TWITTER IS NEUTRAL ON BITCOIN!\"\n",
    "    else: #bollinger_signal == -1 and sentiment_signal == -1\n",
    "        genie_decision = \"It's a good time to SELL! Why? Because BITCOIN IS OVERVALUED AND TWITTER IS BEARISH ON BITCOIN!\"\n",
    "    \n",
    "    return genie_decision"
   ]
  },
  {
   "cell_type": "code",
   "execution_count": 189,
   "id": "liquid-complexity",
   "metadata": {},
   "outputs": [
    {
     "name": "stdout",
     "output_type": "stream",
     "text": [
      "0.0\n"
     ]
    }
   ],
   "source": [
    "# Defining OHLC update function\n",
    "def ohlc_update():\n",
    "    ohlc = k.get_ohlc_data('BTCUSD', interval=1440, ascending = True)\n",
    "    ohlc[0]['close'] = ohlc[0]['close'].dropna()\n",
    "    # Set bollinger band window\n",
    "    bollinger_window = 20\n",
    "\n",
    "    # Calculate rolling mean and standard deviation\n",
    "    ohlc[0]['bollinger_mid_band'] = ohlc[0]['close'].rolling(window=bollinger_window).mean()\n",
    "    ohlc[0]['bollinger_std'] = ohlc[0]['close'].rolling(window=20).std()\n",
    "\n",
    "    # Calculate upper and lowers bands of bollinger band\n",
    "    ohlc[0]['bollinger_upper_band']  = ohlc[0]['bollinger_mid_band'] + (ohlc[0]['bollinger_std'] * 1)\n",
    "    ohlc[0]['bollinger_lower_band']  = ohlc[0]['bollinger_mid_band'] - (ohlc[0]['bollinger_std'] * 1)\n",
    "\n",
    "    # Calculate bollinger band trading signal\n",
    "    ohlc[0]['bollinger_long'] = np.where(ohlc[0]['close'] < ohlc[0]['bollinger_lower_band'], 1.0, 0.0)\n",
    "    ohlc[0]['bollinger_short'] = np.where(ohlc[0]['close'] > ohlc[0]['bollinger_upper_band'], -1.0, 0.0)\n",
    "    ohlc[0]['bollinger_signal'] = ohlc[0]['bollinger_long'] + ohlc[0]['bollinger_short']\n",
    "    #print(\"ohlc updated\")\n",
    "    print(ohlc[0]['bollinger_signal'][-1])\n",
    "    \n",
    "ohlc_update()\n"
   ]
  },
  {
   "cell_type": "code",
   "execution_count": 190,
   "id": "express-fossil",
   "metadata": {},
   "outputs": [
    {
     "name": "stdout",
     "output_type": "stream",
     "text": [
      "\n",
      "\n",
      "Time: 2021-06-12 03:23:51.823247\n",
      "Sentiment Values for Bitcoin\n",
      "Number of Tweets Analyzed: 200\n",
      "Positive tweets percentage: 29.72973 %\n",
      "Negative tweets percentage: 16.216216 %\n"
     ]
    },
    {
     "data": {
      "text/plain": [
       "0"
      ]
     },
     "execution_count": 190,
     "metadata": {},
     "output_type": "execute_result"
    }
   ],
   "source": [
    "# Defining Get Sentiment Signal Function\n",
    "def get_sentiment_signal():\n",
    "    positive_tweet_percentage, negative_tweet_percentage = main()\n",
    "    if positive_tweet_percentage > 50:\n",
    "        sentiment_signal = 1\n",
    "    elif negative_tweet_percentage > 50:\n",
    "        sentiment_signal = -1\n",
    "    else: sentiment_signal = 0\n",
    "    return sentiment_signal\n",
    "\n",
    "get_sentiment_signal()"
   ]
  },
  {
   "cell_type": "code",
   "execution_count": 191,
   "id": "ultimate-singles",
   "metadata": {},
   "outputs": [
    {
     "name": "stdout",
     "output_type": "stream",
     "text": [
      "running genie\n",
      "0.0\n",
      "\n",
      "\n",
      "Time: 2021-06-12 03:23:52.887252\n",
      "Sentiment Values for Bitcoin\n",
      "Number of Tweets Analyzed: 200\n",
      "Positive tweets percentage: 28.767123 %\n",
      "Negative tweets percentage: 16.438356 %\n"
     ]
    },
    {
     "data": {
      "text/plain": [
       "\"It's a good time to HODL! Why? Because Bitcoin is neither overvalued nor undervalued and Twitter is neutral on Bitcoin!\""
      ]
     },
     "execution_count": 191,
     "metadata": {},
     "output_type": "execute_result"
    }
   ],
   "source": [
    "# Defining Ask Genie Function\n",
    "def ask_genie():\n",
    "    print(\"running genie\")\n",
    "    ohlc_update()\n",
    "    sentiment_signal = get_sentiment_signal()\n",
    "    bollinger_signal = ohlc[0]['bollinger_signal'][-1]\n",
    "    #tk.messagebox.showinfo(\"Bitcoin Genie Says\", get_genie_decision(bollinger_signal, sentiment_signal))\n",
    "    return get_genie_decision(bollinger_signal, sentiment_signal)\n",
    "ask_genie()"
   ]
  },
  {
   "cell_type": "code",
   "execution_count": 192,
   "id": "professional-senator",
   "metadata": {},
   "outputs": [
    {
     "name": "stdout",
     "output_type": "stream",
     "text": [
      "running genie\n",
      "0.0\n",
      "\n",
      "\n",
      "Time: 2021-06-12 03:23:56.622428\n",
      "Sentiment Values for Bitcoin\n",
      "Number of Tweets Analyzed: 200\n",
      "Positive tweets percentage: 31.944444 %\n",
      "Negative tweets percentage: 15.277778 %\n",
      "running genie\n",
      "0.0\n",
      "\n",
      "\n",
      "Time: 2021-06-12 03:23:57.722779\n",
      "Sentiment Values for Bitcoin\n",
      "Number of Tweets Analyzed: 200\n",
      "Positive tweets percentage: 31.944444 %\n",
      "Negative tweets percentage: 15.277778 %\n"
     ]
    }
   ],
   "source": [
    "# Building User Interface using Tkinter\n",
    "root = tk.Tk()\n",
    "root.geometry('500x500')\n",
    "root.title(\"Bitcoin Genie\")\n",
    "\n",
    "label_0 = tk.Label(root, text=\"Bitcoin Genie\",width=20,font=(\"bold\", 36))\n",
    "label_0.place(x=-40,y=53)\n",
    "\n",
    "label_1 = tk.Label(root, text=\"“I can tell you whether to buy, hold, or sell Bitcoin at this moment”\",width=60,font=(\"bold\", 12))\n",
    "label_1.place(x=-20,y=110)\n",
    "\n",
    "label_2 = tk.Label(root, text=\"DISCLAIMER: THIS IS NOT FINANCIAL ADVICE!\",width=60,font=(\"bold\", 12))\n",
    "label_2.place(x=-20,y=450)\n",
    "\n",
    "def button_press():\n",
    "    label_response = tk.Text(root, height=3, width=50)\n",
    "    label_response.pack()\n",
    "    #label_response.insert(tk.END,\"\")\n",
    "    label_response.config(state=\"disabled\")\n",
    "    label_response.place(x=50,y=250)\n",
    "    response = ask_genie()\n",
    "    label_response.config(state=\"normal\")\n",
    "    label_response.insert(tk.END,ask_genie())\n",
    "    label_response.config(state=\"disabled\")\n",
    "\n",
    "b1=tk.Button(root,text=\"Ask ME!\",font=(\"bold\", 20),height=2,width=10,bg='blue',fg='white', command=button_press)\n",
    "b1.place(x=170,y=150)\n",
    "\n",
    "tk.mainloop()"
   ]
  }
 ],
 "metadata": {
  "kernelspec": {
   "display_name": "Python 3",
   "language": "python",
   "name": "python3"
  },
  "language_info": {
   "codemirror_mode": {
    "name": "ipython",
    "version": 3
   },
   "file_extension": ".py",
   "mimetype": "text/x-python",
   "name": "python",
   "nbconvert_exporter": "python",
   "pygments_lexer": "ipython3",
   "version": "3.7.7"
  }
 },
 "nbformat": 4,
 "nbformat_minor": 5
}
